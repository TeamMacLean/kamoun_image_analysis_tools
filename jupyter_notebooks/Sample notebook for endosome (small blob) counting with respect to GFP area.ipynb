{
 "cells": [
  {
   "cell_type": "markdown",
   "metadata": {},
   "source": [
    "## Counting Blobs\n",
    "\n",
    "The aim of this code is to find and count small image blobs that are the brightest thing in a Leica `.lif` image, and work out what the cell area in the image is.\n",
    "\n",
    "The algorithm implemented in `fluorseg.extract_small_blob_count()` is as follows.\n",
    "\n",
    "0. Calculate the maximum projection of the Series.\n",
    "1. Calculate 99th percentile pixel intensity ($p$, a parameter that can be modified)\n",
    "2. Set all pixels with lower intensity than $p$ to 0.\n",
    "3. Perform a watershed object finding step.\n",
    "4. Remove objects smaller than a given size ($s$, a parameter that can be modified).\n",
    "5. Count remaining objects.\n",
    "6. Find pixels where $\\textrm{ intensity} \\ge c$, ($c$ an intensity cut-off parameter that can be modified), collect into a binary mask.\n",
    "7. Fill holes in the mask. Count pixels in the mask - save as area of cell."
   ]
  },
  {
   "cell_type": "markdown",
   "metadata": {},
   "source": [
    "\n",
    "## Setting up the run folder\n",
    "\n",
    "Put a single .lif into a single folder. This will be the run folder.\n",
    "\n",
    "Run the code below and select the run folder using the file browser that appears."
   ]
  },
  {
   "cell_type": "code",
   "execution_count": 1,
   "metadata": {},
   "outputs": [
    {
     "data": {
      "application/vnd.jupyter.widget-view+json": {
       "model_id": "ca534c83139c45d8aade1e2ae0071728",
       "version_major": 2,
       "version_minor": 0
      },
      "text/plain": [
       "VBox(children=(HTML(value='You have selected: <h3>/Users/macleand/Desktop/alice_images/mauricio_blobs</h3>'), …"
      ]
     },
     "metadata": {},
     "output_type": "display_data"
    }
   ],
   "source": [
    "import fluorseg as fs\n",
    "import numpy as np\n",
    "np.seterr(invalid='ignore') #some images give invalid numbers \n",
    "# in sobel filter. Ignore the warning that stops program execution\n",
    "f = fs.FileBrowser()\n",
    "f.widget()\n",
    "\n"
   ]
  },
  {
   "cell_type": "markdown",
   "metadata": {},
   "source": [
    "\n",
    "## Extracting the fluorescence data\n",
    "Run the code below to get the fluorescence data out of the .lif files.\n",
    "\n",
    "(This step can take a few minutes)"
   ]
  },
  {
   "cell_type": "code",
   "execution_count": 2,
   "metadata": {},
   "outputs": [],
   "source": [
    "run_folder = f.path\n",
    "result = fs.extract_small_blob_count(run_folder, guess_cell_area=True, \n",
    "                                     guess_cell_area_min_i = 30)"
   ]
  },
  {
   "cell_type": "markdown",
   "metadata": {},
   "source": [
    "## Saving the numbers to a `.csv` and a report summary page\n",
    "\n",
    "Run the code below to get the data into .csv format called result.csv and an image section summary. These files will be written to the folder selected above."
   ]
  },
  {
   "cell_type": "code",
   "execution_count": 3,
   "metadata": {},
   "outputs": [],
   "source": [
    "import os\n",
    "import csv\n",
    "\n",
    "h = fs.HtmlReport(result)\n",
    "html_file = os.path.join(run_folder, \"report_summary.html\" )\n",
    "with open(html_file, \"w\") as outhtml:\n",
    "    outhtml.write( h.write_html() )\n",
    "\n",
    "csv_file = os.path.join(run_folder, \"results.csv\")\n",
    "with open(csv_file, \"w\") as outcsv:\n",
    "    csvw = csv.writer(outcsv)\n",
    "    for row in fs.as_csv(result):\n",
    "        csvw.writerow(row)"
   ]
  },
  {
   "cell_type": "code",
   "execution_count": null,
   "metadata": {},
   "outputs": [],
   "source": []
  }
 ],
 "metadata": {
  "kernelspec": {
   "display_name": "Python 3",
   "language": "python",
   "name": "python3"
  },
  "language_info": {
   "codemirror_mode": {
    "name": "ipython",
    "version": 3
   },
   "file_extension": ".py",
   "mimetype": "text/x-python",
   "name": "python",
   "nbconvert_exporter": "python",
   "pygments_lexer": "ipython3",
   "version": "3.6.7"
  }
 },
 "nbformat": 4,
 "nbformat_minor": 2
}
